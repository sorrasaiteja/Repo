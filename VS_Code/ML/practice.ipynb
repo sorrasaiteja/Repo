{
 "cells": [
  {
   "cell_type": "code",
   "execution_count": 1,
   "metadata": {},
   "outputs": [],
   "source": [
    "import pandas as pd\n"
   ]
  },
  {
   "cell_type": "code",
   "execution_count": 2,
   "metadata": {},
   "outputs": [
    {
     "data": {
      "text/plain": [
       "'1.4.3'"
      ]
     },
     "execution_count": 2,
     "metadata": {},
     "output_type": "execute_result"
    }
   ],
   "source": [
    "pd.__version__"
   ]
  },
  {
   "cell_type": "code",
   "execution_count": 3,
   "metadata": {},
   "outputs": [
    {
     "name": "stdout",
     "output_type": "stream",
     "text": [
      "0    1\n",
      "1    2\n",
      "2    3\n",
      "dtype: int64\n",
      "1\n",
      "2\n",
      "3\n",
      "1    1\n",
      "2    2\n",
      "3    3\n",
      "dtype: int64\n",
      "1\n",
      "2\n"
     ]
    }
   ],
   "source": [
    "# Series\n",
    "a = [1,2,3]\n",
    "pSeries = pd.Series(a)\n",
    "print(pSeries)\n",
    "print(pSeries[0]) #\n",
    "print(pSeries[1])\n",
    "print(pSeries[2]) #Index\n",
    "pSeries = pd.Series(a, index = [1,2,3]) #Labelling\n",
    "print(pSeries)\n",
    "print(pSeries[1]) #\n",
    "print(pSeries[2]) #Labels"
   ]
  },
  {
   "cell_type": "code",
   "execution_count": 4,
   "metadata": {},
   "outputs": [
    {
     "name": "stdout",
     "output_type": "stream",
     "text": [
      "day1    420\n",
      "day2    450\n",
      "day3    370\n",
      "dtype: int64\n"
     ]
    }
   ],
   "source": [
    "# Keys/Object pairs as Series\n",
    "calorie = {\"day1\": 420, \"day2\": 450, \"day3\": 370}\n",
    "pCalorie = pd.Series(calorie)\n",
    "print(pCalorie)"
   ]
  },
  {
   "cell_type": "code",
   "execution_count": 5,
   "metadata": {},
   "outputs": [
    {
     "name": "stdout",
     "output_type": "stream",
     "text": [
      "      calories  duration\n",
      "day1       420        50\n",
      "day2       380        40\n",
      "day3       390        45\n"
     ]
    }
   ],
   "source": [
    "# DataFrame\n",
    "data = {\n",
    "    \"calories\": [420, 380, 390],\n",
    "    \"duration\": [50, 40, 45]\n",
    "}\n",
    "pDataFrame = pd.DataFrame(data, index = [\"day1\", \"day2\", \"day3\"]) # Named Index\n",
    "print(pDataFrame)"
   ]
  },
  {
   "cell_type": "code",
   "execution_count": 6,
   "metadata": {},
   "outputs": [
    {
     "name": "stdout",
     "output_type": "stream",
     "text": [
      "calories    420\n",
      "duration     50\n",
      "Name: day1, dtype: int64\n"
     ]
    }
   ],
   "source": [
    "print(pDataFrame.loc[\"day1\"]) # Locate a Row"
   ]
  },
  {
   "cell_type": "code",
   "execution_count": 7,
   "metadata": {},
   "outputs": [
    {
     "name": "stdout",
     "output_type": "stream",
     "text": [
      "380\n"
     ]
    }
   ],
   "source": [
    "print(pDataFrame[\"calories\"][\"day2\"])"
   ]
  },
  {
   "cell_type": "code",
   "execution_count": 8,
   "metadata": {},
   "outputs": [
    {
     "name": "stdout",
     "output_type": "stream",
     "text": [
      "    Car_Name  Year  Selling_Price  Present_Price  Kms_Driven Fuel_Type  \\\n",
      "0       ritz  2014           3.35           5.59       27000    Petrol   \n",
      "1        sx4  2013           4.75           9.54       43000    Diesel   \n",
      "2       ciaz  2017           7.25           9.85        6900    Petrol   \n",
      "3    wagon r  2011           2.85           4.15        5200    Petrol   \n",
      "4      swift  2014           4.60           6.87       42450    Diesel   \n",
      "..       ...   ...            ...            ...         ...       ...   \n",
      "296     city  2016           9.50          11.60       33988    Diesel   \n",
      "297     brio  2015           4.00           5.90       60000    Petrol   \n",
      "298     city  2009           3.35          11.00       87934    Petrol   \n",
      "299     city  2017          11.50          12.50        9000    Diesel   \n",
      "300     brio  2016           5.30           5.90        5464    Petrol   \n",
      "\n",
      "    Seller_Type Transmission  Owner  \n",
      "0        Dealer       Manual      0  \n",
      "1        Dealer       Manual      0  \n",
      "2        Dealer       Manual      0  \n",
      "3        Dealer       Manual      0  \n",
      "4        Dealer       Manual      0  \n",
      "..          ...          ...    ...  \n",
      "296      Dealer       Manual      0  \n",
      "297      Dealer       Manual      0  \n",
      "298      Dealer       Manual      0  \n",
      "299      Dealer       Manual      0  \n",
      "300      Dealer       Manual      0  \n",
      "\n",
      "[301 rows x 9 columns]\n"
     ]
    }
   ],
   "source": [
    "sheet = pd.read_csv(\"cardata.csv\")\n",
    "print(sheet)"
   ]
  },
  {
   "cell_type": "code",
   "execution_count": 9,
   "metadata": {},
   "outputs": [
    {
     "name": "stdout",
     "output_type": "stream",
     "text": [
      "    Car_Name  Year  Selling_Price  Present_Price  Kms_Driven Fuel_Type  \\\n",
      "0       ritz  2014           3.35           5.59       27000    Petrol   \n",
      "1        sx4  2013           4.75           9.54       43000    Diesel   \n",
      "2       ciaz  2017           7.25           9.85        6900    Petrol   \n",
      "3    wagon r  2011           2.85           4.15        5200    Petrol   \n",
      "4      swift  2014           4.60           6.87       42450    Diesel   \n",
      "..       ...   ...            ...            ...         ...       ...   \n",
      "296     city  2016           9.50          11.60       33988    Diesel   \n",
      "297     brio  2015           4.00           5.90       60000    Petrol   \n",
      "298     city  2009           3.35          11.00       87934    Petrol   \n",
      "299     city  2017          11.50          12.50        9000    Diesel   \n",
      "300     brio  2016           5.30           5.90        5464    Petrol   \n",
      "\n",
      "    Seller_Type Transmission  Owner  \n",
      "0        Dealer       Manual      0  \n",
      "1        Dealer       Manual      0  \n",
      "2        Dealer       Manual      0  \n",
      "3        Dealer       Manual      0  \n",
      "4        Dealer       Manual      0  \n",
      "..          ...          ...    ...  \n",
      "296      Dealer       Manual      0  \n",
      "297      Dealer       Manual      0  \n",
      "298      Dealer       Manual      0  \n",
      "299      Dealer       Manual      0  \n",
      "300      Dealer       Manual      0  \n",
      "\n",
      "[301 rows x 9 columns]\n",
      "0       5.59\n",
      "1       9.54\n",
      "2       9.85\n",
      "3       4.15\n",
      "4       6.87\n",
      "       ...  \n",
      "296    11.60\n",
      "297     5.90\n",
      "298    11.00\n",
      "299    12.50\n",
      "300     5.90\n",
      "Name: Present_Price, Length: 301, dtype: float64\n",
      "7.628471760797343\n"
     ]
    }
   ],
   "source": [
    "print(sheet)\n",
    "print(sheet[\"Present_Price\"])\n",
    "print(sheet[\"Present_Price\"].mean())"
   ]
  },
  {
   "cell_type": "code",
   "execution_count": 10,
   "metadata": {},
   "outputs": [],
   "source": [
    "smi = pd.read_csv(\"Book1.csv\")"
   ]
  },
  {
   "cell_type": "code",
   "execution_count": 11,
   "metadata": {},
   "outputs": [
    {
     "data": {
      "text/html": [
       "<div>\n",
       "<style scoped>\n",
       "    .dataframe tbody tr th:only-of-type {\n",
       "        vertical-align: middle;\n",
       "    }\n",
       "\n",
       "    .dataframe tbody tr th {\n",
       "        vertical-align: top;\n",
       "    }\n",
       "\n",
       "    .dataframe thead th {\n",
       "        text-align: right;\n",
       "    }\n",
       "</style>\n",
       "<table border=\"1\" class=\"dataframe\">\n",
       "  <thead>\n",
       "    <tr style=\"text-align: right;\">\n",
       "      <th></th>\n",
       "      <th>Quiz 1</th>\n",
       "      <th>Mid sem</th>\n",
       "      <th>Quiz 2</th>\n",
       "      <th>End sem</th>\n",
       "    </tr>\n",
       "  </thead>\n",
       "  <tbody>\n",
       "    <tr>\n",
       "      <th>0</th>\n",
       "      <td>11.0</td>\n",
       "      <td>13.0</td>\n",
       "      <td>12.0</td>\n",
       "      <td>40.0</td>\n",
       "    </tr>\n",
       "    <tr>\n",
       "      <th>1</th>\n",
       "      <td>7.0</td>\n",
       "      <td>6.5</td>\n",
       "      <td>2.5</td>\n",
       "      <td>23.0</td>\n",
       "    </tr>\n",
       "    <tr>\n",
       "      <th>2</th>\n",
       "      <td>9.5</td>\n",
       "      <td>12.0</td>\n",
       "      <td>8.5</td>\n",
       "      <td>29.0</td>\n",
       "    </tr>\n",
       "    <tr>\n",
       "      <th>3</th>\n",
       "      <td>10.0</td>\n",
       "      <td>9.5</td>\n",
       "      <td>10.0</td>\n",
       "      <td>34.0</td>\n",
       "    </tr>\n",
       "    <tr>\n",
       "      <th>4</th>\n",
       "      <td>8.5</td>\n",
       "      <td>15.5</td>\n",
       "      <td>10.0</td>\n",
       "      <td>33.0</td>\n",
       "    </tr>\n",
       "    <tr>\n",
       "      <th>...</th>\n",
       "      <td>...</td>\n",
       "      <td>...</td>\n",
       "      <td>...</td>\n",
       "      <td>...</td>\n",
       "    </tr>\n",
       "    <tr>\n",
       "      <th>90</th>\n",
       "      <td>8.0</td>\n",
       "      <td>8.0</td>\n",
       "      <td>5.5</td>\n",
       "      <td>26.0</td>\n",
       "    </tr>\n",
       "    <tr>\n",
       "      <th>91</th>\n",
       "      <td>8.5</td>\n",
       "      <td>7.0</td>\n",
       "      <td>8.0</td>\n",
       "      <td>13.0</td>\n",
       "    </tr>\n",
       "    <tr>\n",
       "      <th>92</th>\n",
       "      <td>10.5</td>\n",
       "      <td>13.0</td>\n",
       "      <td>8.0</td>\n",
       "      <td>36.0</td>\n",
       "    </tr>\n",
       "    <tr>\n",
       "      <th>93</th>\n",
       "      <td>2.0</td>\n",
       "      <td>11.5</td>\n",
       "      <td>11.5</td>\n",
       "      <td>19.0</td>\n",
       "    </tr>\n",
       "    <tr>\n",
       "      <th>94</th>\n",
       "      <td>3.5</td>\n",
       "      <td>2.0</td>\n",
       "      <td>8.0</td>\n",
       "      <td>7.0</td>\n",
       "    </tr>\n",
       "  </tbody>\n",
       "</table>\n",
       "<p>95 rows × 4 columns</p>\n",
       "</div>"
      ],
      "text/plain": [
       "    Quiz 1  Mid sem  Quiz 2  End sem\n",
       "0     11.0     13.0    12.0     40.0\n",
       "1      7.0      6.5     2.5     23.0\n",
       "2      9.5     12.0     8.5     29.0\n",
       "3     10.0      9.5    10.0     34.0\n",
       "4      8.5     15.5    10.0     33.0\n",
       "..     ...      ...     ...      ...\n",
       "90     8.0      8.0     5.5     26.0\n",
       "91     8.5      7.0     8.0     13.0\n",
       "92    10.5     13.0     8.0     36.0\n",
       "93     2.0     11.5    11.5     19.0\n",
       "94     3.5      2.0     8.0      7.0\n",
       "\n",
       "[95 rows x 4 columns]"
      ]
     },
     "execution_count": 11,
     "metadata": {},
     "output_type": "execute_result"
    }
   ],
   "source": [
    "smi"
   ]
  },
  {
   "cell_type": "code",
   "execution_count": 12,
   "metadata": {},
   "outputs": [],
   "source": [
    "smi[\"Total\"]=smi[\"Quiz 1\"]+smi[\"Quiz 2\"]+smi[\"Mid sem\"]+smi[\"End sem\"]"
   ]
  },
  {
   "cell_type": "code",
   "execution_count": 13,
   "metadata": {},
   "outputs": [
    {
     "name": "stdout",
     "output_type": "stream",
     "text": [
      "Quiz 1      8.184211\n",
      "Mid sem    11.305263\n",
      "Quiz 2      8.947368\n",
      "End sem    26.731579\n",
      "Total      55.168421\n",
      "dtype: float64\n"
     ]
    }
   ],
   "source": [
    "smisir = smi\n",
    "print(smisir.mean())"
   ]
  },
  {
   "cell_type": "code",
   "execution_count": 14,
   "metadata": {},
   "outputs": [
    {
     "name": "stdout",
     "output_type": "stream",
     "text": [
      "89.0\n",
      "17.96181832925523\n",
      "71.03818167074476\n"
     ]
    }
   ],
   "source": [
    "print(smisir[\"Total\"].max())\n",
    "print(smisir[\"Total\"].std())\n",
    "print(smisir[\"Total\"].max() - smisir[\"Total\"].std())"
   ]
  },
  {
   "cell_type": "code",
   "execution_count": 15,
   "metadata": {},
   "outputs": [
    {
     "name": "stdout",
     "output_type": "stream",
     "text": [
      "16\n"
     ]
    }
   ],
   "source": [
    "count=0\n",
    "for i in range (0,95):\n",
    "    if(smisir[\"Total\"][i]>71.03818167074476):\n",
    "        count = count +1\n",
    "print(count)"
   ]
  },
  {
   "cell_type": "code",
   "execution_count": 16,
   "metadata": {},
   "outputs": [
    {
     "name": "stdout",
     "output_type": "stream",
     "text": [
      "99999919191\n",
      "    Quiz 1  Mid sem  Quiz 2  End sem  Total\n",
      "0    11.00     13.0    12.0     40.0  76.00\n",
      "1     7.00      6.5     2.5     23.0  39.00\n",
      "2     9.50     12.0     8.5     29.0  59.00\n",
      "3    10.00      9.5    10.0     34.0  63.50\n",
      "4     8.50     15.5    10.0     33.0  67.00\n",
      "5     6.50     12.0    11.0     30.0  59.50\n",
      "6     4.00      7.0     7.5     22.0  40.50\n",
      "7    10.25     10.0    11.0     39.0  70.25\n",
      "8     7.75     11.5     9.5     17.5  46.25\n",
      "9     9.00     10.0     8.0     26.0  53.00\n",
      "10    6.50      8.0     7.0     21.5  43.00\n",
      "11    8.00     10.0    12.5     34.5  65.00\n",
      "12    8.25     11.5    11.0     43.0  73.75\n",
      "13   13.50      9.0     9.5     30.0  62.00\n",
      "14    6.00      3.0    12.0     19.0  40.00\n",
      "15   11.75     10.5    11.5     36.5  70.25\n",
      "16    8.50     13.5     8.5     36.5  67.00\n",
      "17   13.50     19.5    11.5     44.0  88.50\n",
      "18    2.75     10.0     6.0     11.0  29.75\n",
      "19   12.75     16.0    13.5     43.0  85.25\n",
      "20    7.25     15.0     6.5     11.0  39.75\n",
      "21    9.00     11.0     8.0     33.0  61.00\n",
      "22   11.50     13.0     5.0      8.0  37.50\n",
      "23    9.00     20.0     7.5     31.0  67.50\n",
      "24    1.00      5.5     6.0     15.0  27.50\n",
      "25    9.50     11.0     2.0      2.0  24.50\n",
      "26    8.00     11.0     7.0     30.5  56.50\n",
      "27    5.75      5.5    10.0     40.0  61.25\n",
      "28    7.75     10.5     8.0     20.0  46.25\n",
      "29   10.50     15.0    14.0     38.5  78.00\n",
      "30    9.00     16.5     9.0     40.0  74.50\n",
      "31    8.75      7.0     5.0     18.5  39.25\n",
      "32    8.50      6.5     8.0     31.0  54.00\n",
      "33    2.00      6.0     4.0      8.0  20.00\n",
      "34    3.25     13.5    10.5     40.0  67.25\n",
      "35    7.50     18.0     9.0     24.5  59.00\n",
      "36    8.50     12.5     9.0     23.0  53.00\n",
      "37    8.00     14.5    13.5     41.0  77.00\n",
      "38    9.50      8.0     6.0     21.0  44.50\n",
      "39    7.00     12.5    11.5     31.5  62.50\n",
      "40   12.00     13.0    14.0     37.5  76.50\n",
      "41    7.00     12.0     9.0     31.0  59.00\n",
      "42    4.00      3.0     9.5     31.5  48.00\n",
      "43    8.75     14.0    10.5     24.0  57.25\n",
      "44    6.50     14.0     9.5     19.0  49.00\n",
      "45    5.75      5.0     5.0      9.5  25.25\n",
      "46    8.00      5.5     6.5      0.0  20.00\n",
      "47    9.00     15.5    12.5     45.0  82.00\n",
      "48   14.50     19.0    11.0     35.0  79.50\n",
      "49    8.75     10.5     6.0     16.0  41.25\n",
      "50    2.00      5.5     3.0     14.0  24.50\n",
      "51    6.25      7.5     7.0     11.0  31.75\n",
      "52   12.50     13.5    12.0     27.0  65.00\n",
      "53   10.00     20.5    13.0     45.5  89.00\n",
      "54   12.00     19.0    11.5     29.5  72.00\n",
      "55   12.00     20.0    12.0     39.0  83.00\n",
      "56   10.00     15.5     4.0     16.5  46.00\n",
      "57   10.50     10.0     9.0     19.5  49.00\n",
      "58    7.75     12.0    12.0     34.5  66.25\n",
      "59    8.00      9.0     5.0     11.5  33.50\n",
      "60    7.50     10.5     6.0     17.0  41.00\n",
      "61    7.00     15.0    11.0     24.0  57.00\n",
      "62    3.00      1.0     6.0      9.0  19.00\n",
      "63   12.00     19.5    13.5     40.5  85.50\n",
      "64   12.50     16.0    14.0     41.0  83.50\n",
      "65    6.75     10.0     9.5     33.0  59.25\n",
      "66    7.50     12.5     9.0     30.5  59.50\n",
      "67    9.00     20.0    10.5     27.5  67.00\n",
      "68    7.50      9.0    11.0     35.0  62.50\n",
      "69    4.50      9.0     7.5     29.5  50.50\n",
      "70    4.00      8.5     4.5     15.0  32.00\n",
      "71    3.25      8.0     2.5      3.0  16.75\n",
      "72    8.50     10.0    10.5     21.0  50.00\n",
      "73   13.00      8.0    10.5     35.5  67.00\n",
      "74    7.00     11.5    10.0     32.0  60.50\n",
      "75    4.50      9.5     4.0      7.0  25.00\n",
      "76    9.00     18.0     9.5     34.5  71.00\n",
      "77    8.50     10.0    10.5     38.0  67.00\n",
      "78    9.00     13.0    10.5     38.0  70.50\n",
      "79    7.00      6.5     5.5     32.0  51.00\n",
      "80    9.50     11.0    15.0     28.0  63.50\n",
      "81    9.00      9.5     8.0     18.0  44.50\n",
      "82    8.00     13.5     8.5     18.0  48.00\n",
      "83    6.00     11.0    10.0     32.0  59.00\n",
      "84   11.00     14.0     5.5     27.5  58.00\n",
      "85    8.50     10.0     6.5     18.0  43.00\n",
      "86   12.50     13.5    13.0     43.5  82.50\n",
      "87    8.00     11.0     9.5     26.0  54.50\n",
      "88   11.00     11.0     8.5     30.0  60.50\n",
      "89    9.00      8.0    14.0     38.0  69.00\n",
      "90    8.00      8.0     5.5     26.0  47.50\n",
      "91    8.50      7.0     8.0     13.0  36.50\n",
      "92   10.50     13.0     8.0     36.0  67.50\n",
      "93    2.00     11.5    11.5     19.0  44.00\n",
      "94    3.50      2.0     8.0      7.0  20.50\n"
     ]
    }
   ],
   "source": [
    "pd.options.display.max_rows=99999919191\n",
    "print(pd.options.display.max_rows)\n",
    "print(smi)"
   ]
  },
  {
   "cell_type": "code",
   "execution_count": 17,
   "metadata": {},
   "outputs": [
    {
     "name": "stdout",
     "output_type": "stream",
     "text": [
      "<class 'pandas.core.frame.DataFrame'>\n",
      "RangeIndex: 95 entries, 0 to 94\n",
      "Data columns (total 5 columns):\n",
      " #   Column   Non-Null Count  Dtype  \n",
      "---  ------   --------------  -----  \n",
      " 0   Quiz 1   95 non-null     float64\n",
      " 1   Mid sem  95 non-null     float64\n",
      " 2   Quiz 2   95 non-null     float64\n",
      " 3   End sem  95 non-null     float64\n",
      " 4   Total    95 non-null     float64\n",
      "dtypes: float64(5)\n",
      "memory usage: 3.8 KB\n",
      "None\n"
     ]
    }
   ],
   "source": [
    "print(smi.info()) ## To get info of the DataFrame such as no fo colums and Rows"
   ]
  },
  {
   "attachments": {},
   "cell_type": "markdown",
   "metadata": {},
   "source": [
    "## Data Cleaning"
   ]
  },
  {
   "cell_type": "code",
   "execution_count": 18,
   "metadata": {},
   "outputs": [
    {
     "name": "stdout",
     "output_type": "stream",
     "text": [
      "<class 'pandas.core.frame.DataFrame'>\n",
      "RangeIndex: 301 entries, 0 to 300\n",
      "Data columns (total 9 columns):\n",
      " #   Column         Non-Null Count  Dtype  \n",
      "---  ------         --------------  -----  \n",
      " 0   Car_Name       301 non-null    object \n",
      " 1   Year           301 non-null    int64  \n",
      " 2   Selling_Price  301 non-null    float64\n",
      " 3   Present_Price  301 non-null    float64\n",
      " 4   Kms_Driven     301 non-null    int64  \n",
      " 5   Fuel_Type      301 non-null    object \n",
      " 6   Seller_Type    301 non-null    object \n",
      " 7   Transmission   301 non-null    object \n",
      " 8   Owner          301 non-null    int64  \n",
      "dtypes: float64(2), int64(3), object(4)\n",
      "memory usage: 21.3+ KB\n",
      "None\n"
     ]
    }
   ],
   "source": [
    "print(sheet.info())"
   ]
  },
  {
   "attachments": {},
   "cell_type": "markdown",
   "metadata": {},
   "source": [
    "## NUMPY DataTypes & Attributes"
   ]
  },
  {
   "cell_type": "code",
   "execution_count": 19,
   "metadata": {},
   "outputs": [],
   "source": [
    "import numpy as np"
   ]
  },
  {
   "cell_type": "code",
   "execution_count": 20,
   "metadata": {},
   "outputs": [
    {
     "name": "stdout",
     "output_type": "stream",
     "text": [
      "[1 2 3]\n",
      "<class 'numpy.ndarray'>\n"
     ]
    }
   ],
   "source": [
    "a1 = np.array([1,2,3])\n",
    "print(a1)\n",
    "print(type(a1))"
   ]
  },
  {
   "cell_type": "code",
   "execution_count": 21,
   "metadata": {},
   "outputs": [],
   "source": [
    "a2 = np.array([ [1,2,3], [2,3,4] ])\n",
    "a3 = np.array([ [[1,2,3],\n",
    "                 [2,3,4],\n",
    "                 [3,4,5]],\n",
    "                [[4,5,6],\n",
    "                 [5,6,7],\n",
    "                 [6,7,8]] ])"
   ]
  },
  {
   "cell_type": "code",
   "execution_count": 22,
   "metadata": {},
   "outputs": [
    {
     "name": "stdout",
     "output_type": "stream",
     "text": [
      "(2, 3) (2, 3, 3) 2 3 6 18\n",
      "<class 'numpy.ndarray'> <class 'numpy.ndarray'> <class 'numpy.ndarray'>\n"
     ]
    }
   ],
   "source": [
    "print(a2.shape, a3.shape, a2.ndim, a3.ndim, a2.size, a3.size)\n",
    "print(type(a1), type(a2), type(a3))"
   ]
  },
  {
   "cell_type": "code",
   "execution_count": 23,
   "metadata": {},
   "outputs": [
    {
     "data": {
      "text/html": [
       "<div>\n",
       "<style scoped>\n",
       "    .dataframe tbody tr th:only-of-type {\n",
       "        vertical-align: middle;\n",
       "    }\n",
       "\n",
       "    .dataframe tbody tr th {\n",
       "        vertical-align: top;\n",
       "    }\n",
       "\n",
       "    .dataframe thead th {\n",
       "        text-align: right;\n",
       "    }\n",
       "</style>\n",
       "<table border=\"1\" class=\"dataframe\">\n",
       "  <thead>\n",
       "    <tr style=\"text-align: right;\">\n",
       "      <th></th>\n",
       "      <th>0</th>\n",
       "      <th>1</th>\n",
       "      <th>2</th>\n",
       "    </tr>\n",
       "  </thead>\n",
       "  <tbody>\n",
       "    <tr>\n",
       "      <th>0</th>\n",
       "      <td>1</td>\n",
       "      <td>2</td>\n",
       "      <td>3</td>\n",
       "    </tr>\n",
       "    <tr>\n",
       "      <th>1</th>\n",
       "      <td>2</td>\n",
       "      <td>3</td>\n",
       "      <td>4</td>\n",
       "    </tr>\n",
       "  </tbody>\n",
       "</table>\n",
       "</div>"
      ],
      "text/plain": [
       "   0  1  2\n",
       "0  1  2  3\n",
       "1  2  3  4"
      ]
     },
     "execution_count": 23,
     "metadata": {},
     "output_type": "execute_result"
    }
   ],
   "source": [
    "# let us makek array into dataframe\n",
    "nPractice = pd.DataFrame(a2)\n",
    "nPractice"
   ]
  },
  {
   "cell_type": "code",
   "execution_count": 24,
   "metadata": {},
   "outputs": [],
   "source": [
    "# nPractice0 = pd.DataFrame(a3) --- it is not possible"
   ]
  },
  {
   "cell_type": "code",
   "execution_count": 25,
   "metadata": {},
   "outputs": [
    {
     "data": {
      "text/plain": [
       "array([[[1., 1., 1.],\n",
       "        [1., 1., 1.],\n",
       "        [1., 1., 1.]],\n",
       "\n",
       "       [[1., 1., 1.],\n",
       "        [1., 1., 1.],\n",
       "        [1., 1., 1.]],\n",
       "\n",
       "       [[1., 1., 1.],\n",
       "        [1., 1., 1.],\n",
       "        [1., 1., 1.]],\n",
       "\n",
       "       [[1., 1., 1.],\n",
       "        [1., 1., 1.],\n",
       "        [1., 1., 1.]],\n",
       "\n",
       "       [[1., 1., 1.],\n",
       "        [1., 1., 1.],\n",
       "        [1., 1., 1.]]])"
      ]
     },
     "execution_count": 25,
     "metadata": {},
     "output_type": "execute_result"
    }
   ],
   "source": [
    "one = np.ones((5,3,3))\n",
    "one"
   ]
  },
  {
   "cell_type": "code",
   "execution_count": 26,
   "metadata": {},
   "outputs": [
    {
     "data": {
      "text/plain": [
       "array([0, 5])"
      ]
     },
     "execution_count": 26,
     "metadata": {},
     "output_type": "execute_result"
    }
   ],
   "source": [
    "RangePractice = np.arange(0,10,5)\n",
    "RangePractice"
   ]
  },
  {
   "cell_type": "code",
   "execution_count": 27,
   "metadata": {},
   "outputs": [
    {
     "name": "stdout",
     "output_type": "stream",
     "text": [
      "[[[1 4 4]\n",
      "  [6 1 7]\n",
      "  [6 4 3]]\n",
      "\n",
      " [[2 1 2]\n",
      "  [3 2 5]\n",
      "  [3 2 9]]]\n",
      "[[[0.81593688 0.69945498 0.72510175]\n",
      "  [0.91506027 0.70274066 0.44801624]\n",
      "  [0.24606661 0.28532732 0.06694579]]]\n",
      "[[[0.27261392 0.45508141 0.55944565]\n",
      "  [0.39221936 0.2626768  0.17905043]\n",
      "  [0.89329779 0.31066314 0.66721505]]]\n"
     ]
    }
   ],
   "source": [
    "# random, ranint, rand\n",
    "nPractice0 = np.random.randint(0,10, size = (2,3,3))\n",
    "print(nPractice0)\n",
    "nPractice1 = np.random.random((1,3,3))\n",
    "print(nPractice1)\n",
    "nPractice2 = np.random.rand(1,3,3)\n",
    "print(nPractice2)"
   ]
  },
  {
   "attachments": {},
   "cell_type": "markdown",
   "metadata": {},
   "source": [
    "All these randoms are pseudo randoms"
   ]
  },
  {
   "cell_type": "code",
   "execution_count": 28,
   "metadata": {},
   "outputs": [
    {
     "data": {
      "text/plain": [
       "array([[[0.29624916, 0.80906772, 0.35025253],\n",
       "        [0.78940926, 0.56134898, 0.25358895],\n",
       "        [0.10497708, 0.05846073, 0.67329238],\n",
       "        [0.69782966, 0.73278321, 0.78787406],\n",
       "        [0.07637632, 0.3176806 , 0.74102328]]])"
      ]
     },
     "execution_count": 28,
     "metadata": {},
     "output_type": "execute_result"
    }
   ],
   "source": [
    "np.random.seed(seed = 69)\n",
    "nPractice3 = np.random.rand(1,5,3)\n",
    "nPractice3"
   ]
  },
  {
   "cell_type": "code",
   "execution_count": 29,
   "metadata": {},
   "outputs": [
    {
     "data": {
      "text/plain": [
       "array([[[0.29624916, 0.80906772, 0.35025253],\n",
       "        [0.78940926, 0.56134898, 0.25358895],\n",
       "        [0.10497708, 0.05846073, 0.67329238],\n",
       "        [0.69782966, 0.73278321, 0.78787406],\n",
       "        [0.07637632, 0.3176806 , 0.74102328]]])"
      ]
     },
     "execution_count": 29,
     "metadata": {},
     "output_type": "execute_result"
    }
   ],
   "source": [
    "nPractice3"
   ]
  },
  {
   "cell_type": "code",
   "execution_count": 30,
   "metadata": {},
   "outputs": [
    {
     "data": {
      "text/plain": [
       "array([0.05846073, 0.07637632, 0.10497708, 0.25358895, 0.29624916,\n",
       "       0.3176806 , 0.35025253, 0.56134898, 0.67329238, 0.69782966,\n",
       "       0.73278321, 0.74102328, 0.78787406, 0.78940926, 0.80906772])"
      ]
     },
     "execution_count": 30,
     "metadata": {},
     "output_type": "execute_result"
    }
   ],
   "source": [
    "np.unique(nPractice3)"
   ]
  },
  {
   "cell_type": "code",
   "execution_count": 35,
   "metadata": {},
   "outputs": [
    {
     "data": {
      "text/plain": [
       "(array([[1, 2, 3],\n",
       "        [2, 3, 4]]),\n",
       " array([1, 2, 3]))"
      ]
     },
     "execution_count": 35,
     "metadata": {},
     "output_type": "execute_result"
    }
   ],
   "source": [
    "a2, a1"
   ]
  },
  {
   "cell_type": "code",
   "execution_count": 34,
   "metadata": {},
   "outputs": [
    {
     "data": {
      "text/plain": [
       "array([14, 20])"
      ]
     },
     "execution_count": 34,
     "metadata": {},
     "output_type": "execute_result"
    }
   ],
   "source": [
    "a2.dot(a1)"
   ]
  },
  {
   "cell_type": "markdown",
   "metadata": {},
   "source": [
    "a1.dot(a2) not possible"
   ]
  },
  {
   "cell_type": "code",
   "execution_count": null,
   "metadata": {},
   "outputs": [],
   "source": []
  }
 ],
 "metadata": {
  "kernelspec": {
   "display_name": "Python 3",
   "language": "python",
   "name": "python3"
  },
  "language_info": {
   "codemirror_mode": {
    "name": "ipython",
    "version": 3
   },
   "file_extension": ".py",
   "mimetype": "text/x-python",
   "name": "python",
   "nbconvert_exporter": "python",
   "pygments_lexer": "ipython3",
   "version": "3.10.5"
  },
  "orig_nbformat": 4,
  "vscode": {
   "interpreter": {
    "hash": "4ab3462e02a471be57602c35aa116e0ccbabf6db75364e000ab897cfd2bdff2b"
   }
  }
 },
 "nbformat": 4,
 "nbformat_minor": 2
}
