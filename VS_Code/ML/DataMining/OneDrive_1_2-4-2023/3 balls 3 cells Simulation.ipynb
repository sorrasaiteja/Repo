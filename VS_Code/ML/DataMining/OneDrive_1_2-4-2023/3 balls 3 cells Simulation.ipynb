{
 "cells": [
  {
   "cell_type": "code",
   "execution_count": 41,
   "id": "4274c9d6",
   "metadata": {},
   "outputs": [],
   "source": [
    "import numpy as np"
   ]
  },
  {
   "cell_type": "code",
   "execution_count": 48,
   "id": "b3634559",
   "metadata": {},
   "outputs": [],
   "source": [
    "#Finding position of ball in cell\n",
    "#np.random.uniform(0,1) gives a random number in between 0 and 1.\n",
    "#If the random number is less than 1/3, we place the ball in cell 1, \n",
    "#if it is greater than 2/3, we place it in cell 2\n",
    "#Otherwise, we put it in cell 3"
   ]
  },
  {
   "cell_type": "code",
   "execution_count": 49,
   "id": "8951a881",
   "metadata": {},
   "outputs": [],
   "source": [
    "# A udf (user defined function) to simulate the experiment once\n",
    "# We will call this function again and again to do the simulation 1000000 times\n",
    "\n",
    "def expt():\n",
    "    listofballs = [0,0,0]\n",
    "    for i in range(3):\n",
    "        randnumber = np.random.uniform(0,1)\n",
    "        if randnumber < 1/3:\n",
    "            listofballs[0] = listofballs[0] + 1\n",
    "        elif randnumber < 2/3:\n",
    "            listofballs[1] = listofballs[1] + 1\n",
    "        else:\n",
    "            listofballs[2] = listofballs[2] + 1\n",
    "    return listofballs"
   ]
  },
  {
   "cell_type": "code",
   "execution_count": 50,
   "id": "65b0f21f",
   "metadata": {},
   "outputs": [
    {
     "data": {
      "text/plain": [
       "[0, 0, 1]"
      ]
     },
     "execution_count": 50,
     "metadata": {},
     "output_type": "execute_result"
    }
   ],
   "source": [
    "listofballs"
   ]
  },
  {
   "cell_type": "code",
   "execution_count": 51,
   "id": "65ca700a",
   "metadata": {},
   "outputs": [],
   "source": [
    "listofballstotal = []\n",
    "for i in range(1000000):\n",
    "    listofballstotal.append(expt())"
   ]
  },
  {
   "cell_type": "code",
   "execution_count": 52,
   "id": "f7db6158",
   "metadata": {},
   "outputs": [
    {
     "data": {
      "text/plain": [
       "0.221826"
      ]
     },
     "execution_count": 52,
     "metadata": {},
     "output_type": "execute_result"
    }
   ],
   "source": [
    "total = 0\n",
    "for i in range(1000000):\n",
    "    if listofballstotal[i] == [1,1,1]:\n",
    "        total = total + 1\n",
    "probability = total/1000000\n",
    "probability"
   ]
  },
  {
   "cell_type": "code",
   "execution_count": 53,
   "id": "db3730fa",
   "metadata": {},
   "outputs": [
    {
     "data": {
      "text/plain": [
       "0.2222222222222222"
      ]
     },
     "execution_count": 53,
     "metadata": {},
     "output_type": "execute_result"
    }
   ],
   "source": [
    "6/27"
   ]
  },
  {
   "cell_type": "code",
   "execution_count": null,
   "id": "cb9254d9",
   "metadata": {},
   "outputs": [],
   "source": []
  },
  {
   "cell_type": "code",
   "execution_count": null,
   "id": "88cc803f",
   "metadata": {},
   "outputs": [],
   "source": []
  }
 ],
 "metadata": {
  "kernelspec": {
   "display_name": "Python 3",
   "language": "python",
   "name": "python3"
  },
  "language_info": {
   "codemirror_mode": {
    "name": "ipython",
    "version": 3
   },
   "file_extension": ".py",
   "mimetype": "text/x-python",
   "name": "python",
   "nbconvert_exporter": "python",
   "pygments_lexer": "ipython3",
   "version": "3.8.8"
  }
 },
 "nbformat": 4,
 "nbformat_minor": 5
}
