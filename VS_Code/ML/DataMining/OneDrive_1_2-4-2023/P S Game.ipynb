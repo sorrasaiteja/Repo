{
 "cells": [
  {
   "cell_type": "code",
   "execution_count": 69,
   "id": "12f4621d",
   "metadata": {},
   "outputs": [],
   "source": [
    "#sample game\n",
    "import random\n",
    "def onegame():\n",
    "    gameseq = []\n",
    "    while gameseq[-3:] != ['P','P','P'] and gameseq[-4:] != ['S','S','S','S']:\n",
    "        rno = random.uniform(0,1)\n",
    "        if (rno < 0.4):\n",
    "            wp = \"P\"\n",
    "        else:\n",
    "            wp=\"S\"\n",
    "        gameseq.append(wp)\n",
    "    return(gameseq)"
   ]
  },
  {
   "cell_type": "code",
   "execution_count": 70,
   "id": "384fe7dd",
   "metadata": {},
   "outputs": [],
   "source": [
    "gameresult = {}\n",
    "ntimes = 1000000\n",
    "for i in range(ntimes):\n",
    "    gameresult[i] = onegame()   "
   ]
  },
  {
   "cell_type": "code",
   "execution_count": 71,
   "id": "1b8529ee",
   "metadata": {},
   "outputs": [],
   "source": [
    "#print(gameresult)"
   ]
  },
  {
   "cell_type": "code",
   "execution_count": 72,
   "id": "125b731a",
   "metadata": {},
   "outputs": [
    {
     "data": {
      "text/plain": [
       "0.407828"
      ]
     },
     "execution_count": 72,
     "metadata": {},
     "output_type": "execute_result"
    }
   ],
   "source": [
    "winsP = 0\n",
    "for i in range(ntimes):\n",
    "    if gameresult[i][-3:] == ['P','P','P']:\n",
    "        winsP = winsP + 1\n",
    "probP = winsP/ntimes\n",
    "probP"
   ]
  },
  {
   "cell_type": "code",
   "execution_count": 73,
   "id": "9851fbce",
   "metadata": {},
   "outputs": [
    {
     "name": "stdout",
     "output_type": "stream",
     "text": [
      "['P', 'S', 'P', 'P', 'S', 'S', 'P', 'P', 'P']\n",
      "['P', 'S', 'P', 'S', 'S', 'S', 'P', 'P', 'P']\n",
      "['S', 'P', 'S', 'S', 'P', 'P', 'S', 'S', 'P', 'S', 'P', 'P', 'P']\n",
      "['S', 'P', 'S', 'S', 'P', 'S', 'P', 'P', 'P']\n",
      "['P', 'S', 'S', 'P', 'S', 'P', 'P', 'S', 'S', 'S', 'S']\n",
      "['P', 'S', 'P', 'S', 'S', 'S', 'P', 'P', 'P']\n",
      "['S', 'S', 'S', 'P', 'S', 'S', 'S', 'P', 'P', 'S', 'P', 'P', 'P']\n",
      "['P', 'S', 'P', 'S', 'P', 'P', 'S', 'S', 'P', 'S', 'S', 'S', 'S']\n",
      "['P', 'S', 'S', 'P', 'S', 'S', 'P', 'S', 'P', 'S', 'P', 'S', 'S', 'P', 'P', 'P']\n",
      "['S', 'S', 'S', 'S']\n",
      "['S', 'S', 'S', 'S']\n",
      "['S', 'S', 'P', 'S', 'S', 'P', 'P', 'P']\n",
      "['P', 'P', 'P']\n",
      "['P', 'S', 'S', 'S', 'S']\n",
      "['P', 'P', 'S', 'P', 'P', 'S', 'S', 'S', 'P', 'S', 'S', 'S', 'P', 'S', 'S', 'S', 'S']\n",
      "['S', 'P', 'P', 'S', 'P', 'S', 'P', 'S', 'S', 'P', 'P', 'S', 'S', 'P', 'P', 'S', 'P', 'S', 'S', 'S', 'S']\n",
      "['P', 'S', 'S', 'P', 'S', 'S', 'S', 'P', 'P', 'S', 'P', 'S', 'P', 'S', 'S', 'S', 'P', 'S', 'P', 'P', 'S', 'S', 'P', 'P', 'P']\n",
      "['P', 'P', 'P']\n",
      "['P', 'S', 'S', 'P', 'S', 'S', 'S', 'P', 'S', 'P', 'S', 'S', 'P', 'S', 'P', 'S', 'P', 'S', 'P', 'P', 'S', 'S', 'P', 'P', 'S', 'S', 'P', 'P', 'S', 'S', 'P', 'S', 'P', 'S', 'S', 'S', 'P', 'S', 'P', 'P', 'S', 'P', 'S', 'S', 'S', 'S']\n",
      "['S', 'P', 'P', 'S', 'S', 'S', 'P', 'P', 'P']\n",
      "['S', 'S', 'P', 'S', 'P', 'S', 'S', 'P', 'P', 'S', 'S', 'P', 'S', 'P', 'S', 'P', 'S', 'S', 'P', 'S', 'S', 'S', 'P', 'P', 'P']\n",
      "['S', 'S', 'S', 'S']\n",
      "['S', 'S', 'S', 'P', 'S', 'S', 'P', 'P', 'S', 'S', 'S', 'S']\n",
      "['P', 'P', 'S', 'S', 'S', 'S']\n",
      "['P', 'S', 'S', 'P', 'S', 'S', 'P', 'P', 'P']\n",
      "['P', 'S', 'P', 'S', 'P', 'S', 'P', 'S', 'P', 'S', 'P', 'S', 'P', 'P', 'P']\n",
      "['S', 'S', 'S', 'S']\n",
      "['S', 'P', 'P', 'P']\n",
      "['S', 'P', 'S', 'P', 'S', 'S', 'P', 'S', 'S', 'S', 'P', 'S', 'S', 'P', 'P', 'P']\n",
      "['S', 'S', 'S', 'P', 'P', 'S', 'S', 'S', 'S']\n",
      "['S', 'P', 'S', 'S', 'P', 'P', 'S', 'S', 'P', 'S', 'P', 'S', 'P', 'S', 'S', 'P', 'P', 'P']\n",
      "['S', 'S', 'S', 'S']\n",
      "['S', 'S', 'S', 'S']\n",
      "['S', 'S', 'P', 'P', 'S', 'P', 'S', 'P', 'S', 'S', 'P', 'S', 'S', 'S', 'S']\n",
      "['P', 'P', 'P']\n",
      "['S', 'P', 'P', 'P']\n",
      "['S', 'S', 'P', 'P', 'S', 'P', 'S', 'S', 'S', 'P', 'P', 'P']\n",
      "['S', 'S', 'P', 'S', 'S', 'P', 'P', 'S', 'P', 'P', 'S', 'P', 'S', 'P', 'S', 'S', 'P', 'S', 'S', 'P', 'P', 'S', 'P', 'S', 'P', 'P', 'P']\n",
      "['S', 'P', 'S', 'S', 'S', 'S']\n",
      "['S', 'S', 'S', 'P', 'P', 'S', 'S', 'P', 'S', 'P', 'S', 'S', 'S', 'S']\n",
      "['S', 'S', 'S', 'S']\n",
      "['S', 'P', 'P', 'S', 'P', 'S', 'P', 'S', 'P', 'P', 'S', 'S', 'P', 'S', 'S', 'S', 'S']\n",
      "['P', 'P', 'S', 'S', 'S', 'S']\n",
      "['S', 'P', 'P', 'S', 'S', 'S', 'S']\n",
      "['P', 'S', 'S', 'P', 'P', 'P']\n",
      "['S', 'S', 'P', 'P', 'S', 'S', 'S', 'P', 'S', 'S', 'P', 'S', 'S', 'S', 'S']\n",
      "['S', 'S', 'S', 'S']\n",
      "['S', 'S', 'S', 'S']\n",
      "['S', 'S', 'P', 'P', 'P']\n",
      "['S', 'S', 'S', 'P', 'P', 'S', 'S', 'S', 'S']\n",
      "['S', 'P', 'S', 'P', 'S', 'S', 'P', 'S', 'S', 'S', 'S']\n",
      "['P', 'S', 'P', 'S', 'P', 'S', 'S', 'S', 'P', 'P', 'P']\n",
      "['S', 'P', 'P', 'S', 'P', 'S', 'S', 'P', 'S', 'P', 'S', 'P', 'S', 'S', 'S', 'S']\n",
      "['S', 'S', 'S', 'S']\n",
      "['P', 'P', 'P']\n",
      "['P', 'S', 'P', 'P', 'P']\n",
      "['S', 'S', 'S', 'S']\n",
      "['S', 'S', 'S', 'S']\n",
      "['S', 'P', 'P', 'S', 'S', 'S', 'P', 'P', 'S', 'P', 'S', 'S', 'S', 'S']\n",
      "['P', 'P', 'S', 'P', 'S', 'S', 'P', 'P', 'P']\n",
      "['S', 'S', 'S', 'S']\n",
      "['P', 'P', 'S', 'P', 'S', 'S', 'P', 'P', 'S', 'S', 'S', 'S']\n",
      "['S', 'S', 'S', 'P', 'P', 'S', 'S', 'S', 'P', 'P', 'S', 'P', 'P', 'S', 'P', 'S', 'S', 'S', 'S']\n",
      "['S', 'P', 'P', 'S', 'P', 'P', 'S', 'S', 'S', 'S']\n",
      "['P', 'S', 'S', 'S', 'S']\n",
      "['S', 'S', 'P', 'P', 'P']\n",
      "['S', 'P', 'P', 'P']\n",
      "['P', 'S', 'S', 'S', 'S']\n",
      "['S', 'S', 'S', 'P', 'P', 'P']\n",
      "['S', 'S', 'S', 'S']\n",
      "['S', 'P', 'P', 'S', 'S', 'S', 'P', 'S', 'P', 'S', 'P', 'S', 'P', 'S', 'P', 'P', 'S', 'P', 'P', 'P']\n",
      "['S', 'S', 'S', 'S']\n",
      "['P', 'S', 'S', 'S', 'S']\n",
      "['P', 'S', 'P', 'P', 'P']\n",
      "['P', 'P', 'P']\n",
      "['S', 'S', 'S', 'S']\n",
      "['S', 'S', 'S', 'P', 'P', 'S', 'S', 'S', 'S']\n",
      "['P', 'P', 'P']\n",
      "['P', 'S', 'S', 'P', 'S', 'P', 'S', 'P', 'S', 'S', 'S', 'S']\n",
      "['S', 'P', 'S', 'P', 'S', 'S', 'S', 'S']\n",
      "['S', 'S', 'S', 'P', 'S', 'S', 'P', 'S', 'S', 'S', 'P', 'P', 'S', 'P', 'S', 'P', 'S', 'S', 'S', 'P', 'S', 'S', 'P', 'P', 'P']\n",
      "['P', 'S', 'P', 'S', 'P', 'S', 'P', 'P', 'P']\n",
      "['P', 'P', 'S', 'S', 'S', 'S']\n",
      "['S', 'P', 'S', 'P', 'S', 'P', 'P', 'P']\n",
      "['S', 'S', 'S', 'P', 'S', 'S', 'S', 'P', 'S', 'S', 'S', 'S']\n",
      "['S', 'S', 'P', 'S', 'P', 'P', 'S', 'P', 'S', 'S', 'P', 'S', 'P', 'S', 'S', 'S', 'S']\n",
      "['S', 'P', 'S', 'P', 'S', 'S', 'S', 'P', 'P', 'S', 'S', 'S', 'S']\n",
      "['S', 'S', 'P', 'S', 'S', 'S', 'P', 'S', 'S', 'S', 'S']\n",
      "['P', 'S', 'P', 'P', 'S', 'P', 'P', 'P']\n",
      "['S', 'S', 'S', 'P', 'S', 'P', 'P', 'P']\n",
      "['S', 'S', 'S', 'S']\n",
      "['P', 'S', 'P', 'S', 'S', 'P', 'P', 'S', 'S', 'S', 'P', 'P', 'S', 'S', 'S', 'S']\n",
      "['P', 'S', 'S', 'P', 'S', 'S', 'S', 'P', 'S', 'S', 'P', 'S', 'S', 'S', 'S']\n",
      "['S', 'S', 'S', 'S']\n",
      "['P', 'S', 'P', 'S', 'S', 'S', 'S']\n",
      "['S', 'S', 'P', 'S', 'S', 'S', 'P', 'S', 'P', 'S', 'S', 'S', 'S']\n",
      "['S', 'S', 'P', 'P', 'S', 'S', 'S', 'S']\n",
      "['S', 'P', 'S', 'S', 'S', 'S']\n",
      "['S', 'P', 'P', 'S', 'P', 'S', 'S', 'S', 'S']\n",
      "['S', 'P', 'P', 'S', 'S', 'P', 'S', 'S', 'S', 'P', 'S', 'P', 'P', 'S', 'S', 'S', 'S']\n"
     ]
    }
   ],
   "source": [
    "for i in range(100):\n",
    "    print(gameresult[i])"
   ]
  },
  {
   "cell_type": "code",
   "execution_count": null,
   "id": "63c3a6ca",
   "metadata": {},
   "outputs": [],
   "source": []
  },
  {
   "cell_type": "code",
   "execution_count": null,
   "id": "e5b511d9",
   "metadata": {},
   "outputs": [],
   "source": []
  }
 ],
 "metadata": {
  "kernelspec": {
   "display_name": "Python 3",
   "language": "python",
   "name": "python3"
  },
  "language_info": {
   "codemirror_mode": {
    "name": "ipython",
    "version": 3
   },
   "file_extension": ".py",
   "mimetype": "text/x-python",
   "name": "python",
   "nbconvert_exporter": "python",
   "pygments_lexer": "ipython3",
   "version": "3.8.8"
  }
 },
 "nbformat": 4,
 "nbformat_minor": 5
}
