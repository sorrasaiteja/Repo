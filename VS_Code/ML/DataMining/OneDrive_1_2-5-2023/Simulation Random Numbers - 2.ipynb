{
 "cells": [
  {
   "cell_type": "code",
   "execution_count": 2,
   "id": "a2b9ee4e",
   "metadata": {},
   "outputs": [],
   "source": [
    "import pandas as pd,numpy as np\n",
    "import matplotlib.pyplot as plt\n",
    "import random\n",
    "import seaborn as sns\n",
    "from scipy.stats import norm"
   ]
  },
  {
   "cell_type": "code",
   "execution_count": null,
   "id": "3f8492d7",
   "metadata": {},
   "outputs": [],
   "source": []
  },
  {
   "cell_type": "code",
   "execution_count": 6,
   "id": "d35f3f28",
   "metadata": {},
   "outputs": [
    {
     "data": {
      "text/plain": [
       "70.36"
      ]
     },
     "execution_count": 6,
     "metadata": {},
     "output_type": "execute_result"
    }
   ],
   "source": [
    "X = np.random.poisson(71,50)\n",
    "avg = sum(X)/len(X)\n",
    "avg"
   ]
  },
  {
   "cell_type": "code",
   "execution_count": 7,
   "id": "b3405a57",
   "metadata": {},
   "outputs": [],
   "source": [
    "avglist = []\n",
    "for i in range(100000):\n",
    "    X = np.random.poisson(71,50)\n",
    "    avg = sum(X)/len(X)\n",
    "    avglist.append(avg)"
   ]
  },
  {
   "cell_type": "code",
   "execution_count": 10,
   "id": "e8ff3999",
   "metadata": {},
   "outputs": [
    {
     "data": {
      "image/png": "[encoded data removed]",
      "text/plain": [
       "<Figure size 432x288 with 1 Axes>"
      ]
     },
     "metadata": {
      "needs_background": "light"
     },
     "output_type": "display_data"
    }
   ],
   "source": [
    "plt.hist(avglist, bins = 1000);"
   ]
  },
  {
   "cell_type": "code",
   "execution_count": 12,
   "id": "ade04658",
   "metadata": {},
   "outputs": [
    {
     "data": {
      "text/plain": [
       "1.4146504070705601"
      ]
     },
     "execution_count": 12,
     "metadata": {},
     "output_type": "execute_result"
    }
   ],
   "source": [
    "np.var(avglist)"
   ]
  },
  {
   "cell_type": "code",
   "execution_count": 13,
   "id": "5336e4fb",
   "metadata": {},
   "outputs": [
    {
     "data": {
      "text/plain": [
       "71.00022119999949"
      ]
     },
     "execution_count": 13,
     "metadata": {},
     "output_type": "execute_result"
    }
   ],
   "source": [
    "sum(avglist)/len(avglist)"
   ]
  },
  {
   "cell_type": "code",
   "execution_count": 16,
   "id": "e0edacca",
   "metadata": {},
   "outputs": [
    {
     "data": {
      "text/plain": [
       "99749"
      ]
     },
     "execution_count": 16,
     "metadata": {},
     "output_type": "execute_result"
    }
   ],
   "source": [
    "counter = 0\n",
    "for i in range(100000):\n",
    "    if avglist[i]<= 71+3*(1.42**0.5) and avglist[i]>=71-3*(1.42**0.5):\n",
    "        counter =  counter + 1\n",
    "counter"
   ]
  },
  {
   "cell_type": "code",
   "execution_count": 18,
   "id": "a0a5960a",
   "metadata": {},
   "outputs": [
    {
     "data": {
      "text/plain": [
       "array([18.60732994,  7.68131563, 18.69418841, 12.93299662, 11.20367881,\n",
       "        6.02234025, 18.11731797, 18.57974657, 22.1773064 ,  4.07445126,\n",
       "       22.74418049, 14.57802639,  5.29260606, 16.60041784, 21.60802032,\n",
       "       22.95448217,  4.8565671 , 16.41127   , 13.36701085, 11.84542574])"
      ]
     },
     "execution_count": 18,
     "metadata": {},
     "output_type": "execute_result"
    }
   ],
   "source": [
    "X = np.random.uniform(2,25,20)\n",
    "X"
   ]
  },
  {
   "cell_type": "code",
   "execution_count": 22,
   "id": "7dc66e7b",
   "metadata": {},
   "outputs": [],
   "source": [
    "avglist = []\n",
    "for i in range(1000000):\n",
    "    X =  np.random.uniform(2,25,20)\n",
    "    avg = sum(X)/len(X)\n",
    "    avglist.append(avg)"
   ]
  },
  {
   "cell_type": "code",
   "execution_count": 23,
   "id": "ab8fda61",
   "metadata": {},
   "outputs": [
    {
     "data": {
      "image/png": "[encoded data removed]",
      "text/plain": [
       "<Figure size 432x288 with 1 Axes>"
      ]
     },
     "metadata": {
      "needs_background": "light"
     },
     "output_type": "display_data"
    }
   ],
   "source": [
    "plt.hist(avglist,bins = 1000);"
   ]
  },
  {
   "cell_type": "code",
   "execution_count": 26,
   "id": "bcf4250a",
   "metadata": {},
   "outputs": [],
   "source": [
    "var = 23*23/12\n",
    "var = var/20\n",
    "mean = 13.5"
   ]
  },
  {
   "cell_type": "code",
   "execution_count": 28,
   "id": "fd156892",
   "metadata": {},
   "outputs": [
    {
     "data": {
      "text/plain": [
       "955038"
      ]
     },
     "execution_count": 28,
     "metadata": {},
     "output_type": "execute_result"
    }
   ],
   "source": [
    "counter = 0\n",
    "for i in range(1000000):\n",
    "    if avglist[i]<= mean+2*(var**0.5) and avglist[i]>=mean-2*(var**0.5):\n",
    "        counter =  counter + 1\n",
    "counter"
   ]
  },
  {
   "cell_type": "code",
   "execution_count": 29,
   "id": "ddd00da1",
   "metadata": {},
   "outputs": [],
   "source": [
    "X = np.random.uniform(0,1,100000)\n"
   ]
  },
  {
   "cell_type": "code",
   "execution_count": 30,
   "id": "da4e7e2b",
   "metadata": {},
   "outputs": [],
   "source": [
    "Y = -0.1*np.log(1-X)"
   ]
  },
  {
   "cell_type": "code",
   "execution_count": 31,
   "id": "530961ff",
   "metadata": {},
   "outputs": [
    {
     "data": {
      "image/png": "[encoded data removed]",
      "text/plain": [
       "<Figure size 432x288 with 1 Axes>"
      ]
     },
     "metadata": {
      "needs_background": "light"
     },
     "output_type": "display_data"
    }
   ],
   "source": [
    "plt.hist(Y,bins = 100);"
   ]
  },
  {
   "cell_type": "code",
   "execution_count": null,
   "id": "fcddea39",
   "metadata": {},
   "outputs": [],
   "source": []
  }
 ],
 "metadata": {
  "kernelspec": {
   "display_name": "Python 3",
   "language": "python",
   "name": "python3"
  },
  "language_info": {
   "codemirror_mode": {
    "name": "ipython",
    "version": 3
   },
   "file_extension": ".py",
   "mimetype": "text/x-python",
   "name": "python",
   "nbconvert_exporter": "python",
   "pygments_lexer": "ipython3",
   "version": "3.8.8"
  }
 },
 "nbformat": 4,
 "nbformat_minor": 5
}
